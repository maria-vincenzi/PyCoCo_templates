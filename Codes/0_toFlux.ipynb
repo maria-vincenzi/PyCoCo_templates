{
 "cells": [
  {
   "cell_type": "markdown",
   "metadata": {},
   "source": [
    "# Convert MAGS (Vega or AB mag system) to Flux\n",
    "You can use the customized package what_the_flux (written by Chris Frohmaier, with a small contribution from Maria Vincenzi).\n",
    "\n",
    "Here you can find a quick example.\n",
    "\n",
    "Remember that:\n",
    "1) 90% of the times Core Collapse SNe are presented in the standard filter system (not in natural filter system). This means that photometry is presented as it would have been observed by the \"standard\" Bessell/SDSS filter set. The \"standard\" Bessell/SDSS filter sets are stored in inputs/Filters/GeneralFilters. The main exception is CSP data, usually presented in natural system. Therfore, for CSP objects we use inputs/Filters/Site3_CSP.\n",
    "\n",
    "2) Magnitudes in Bessell filters (UBVRI) are usually calculated in the Vega system and calibrated to Landolt standards\n",
    "\n",
    "3) Magnitudes in SDSS filters (ugriz) are usually calculated in the AB system and calibrated to Smith 2002 standards\n",
    "\n",
    "4) Magnitudes in Space Telescope SWIFT filters (W2,M2,W1,U,B,V) are usually calculated in the Vega system. See Peter Brown's paper for calibration of the instrument.\n"
   ]
  },
  {
   "cell_type": "code",
   "execution_count": 7,
   "metadata": {},
   "outputs": [],
   "source": [
    "COCO_PATH='/Volumes/TOSHIBAEXT/CoCoTmpl/'"
   ]
  },
  {
   "cell_type": "code",
   "execution_count": 8,
   "metadata": {},
   "outputs": [],
   "source": [
    "import pandas as pd\n",
    "import numpy as np\n",
    "\n",
    "import sys\n",
    "sys.path.insert(0, COCO_PATH+'what_the_flux/')\n",
    "import what_the_flux as wtf"
   ]
  },
  {
   "cell_type": "code",
   "execution_count": 17,
   "metadata": {},
   "outputs": [],
   "source": [
    "input_LC_path = COCO_PATH+\"inputs/Photometry/0_LCs_mags_raw/iPTF13bvn_mag.dat\"\n",
    "output_LC_path = COCO_PATH+\"inputs/Photometry/1_LCs_flux_raw/iPTF13bvn.dat\"\n",
    "filters_data_path = COCO_PATH+\"inputs/Filters/\""
   ]
  },
  {
   "cell_type": "code",
   "execution_count": 39,
   "metadata": {},
   "outputs": [],
   "source": [
    "fout = open(output_LC_path, 'w')\n",
    "fout.write('# From Mags to Flux, not MW/Host dust corrected\\n')\n",
    "fout.close()\n",
    "\n",
    "phot_mags= pd.read_csv(input_LC_path)\n",
    "filter_set = 'GeneralFilters'\n",
    "                \n",
    "fluxes = []\n",
    "fluxes_err = []\n",
    "                \n",
    "for index, row in phot_mags.iterrows():\n",
    "    w,t = wtf.loadFilter(filters_data_path+'%s/%s.dat'%(filter_set, row['band']))\n",
    "    band = wtf.Band_Vega(w,t)\n",
    "    flux_withMW = wtf.mag2flux(band, row['Mag']).value\n",
    "    flux_err_withMW = wtf.ERRmag2ERRflux(band, row['Mag'], row['Mag_err']).value\n",
    "    fluxes.append(flux_withMW)\n",
    "    fluxes_err.append(flux_err_withMW)\n",
    "                \n",
    "phot_mags['Flux'] = fluxes\n",
    "phot_mags['Flux_err'] = fluxes_err\n",
    "phot_mags.to_csv(output_LC_path, index=False)"
   ]
  },
  {
   "cell_type": "code",
   "execution_count": null,
   "metadata": {},
   "outputs": [],
   "source": []
  }
 ],
 "metadata": {
  "anaconda-cloud": {},
  "kernelspec": {
   "display_name": "Python [conda env:anaconda2_7]",
   "language": "python",
   "name": "conda-env-anaconda2_7-py"
  },
  "language_info": {
   "codemirror_mode": {
    "name": "ipython",
    "version": 2
   },
   "file_extension": ".py",
   "mimetype": "text/x-python",
   "name": "python",
   "nbconvert_exporter": "python",
   "pygments_lexer": "ipython2",
   "version": "2.7.6"
  }
 },
 "nbformat": 4,
 "nbformat_minor": 2
}
