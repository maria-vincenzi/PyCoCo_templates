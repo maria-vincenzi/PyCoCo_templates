{
 "cells": [
  {
   "cell_type": "markdown",
   "metadata": {},
   "source": [
    "# HO FATTO UN CHANGE STUPIDO in LOCAL/PUBLIC"
   ]
  },
  {
   "cell_type": "markdown",
   "metadata": {},
   "source": [
    "# Convert MAGS (Vega or AB mag system) to Flux\n",
    "You can use the customized package what_the_flux (written by Chris Frohmaier, with a small contribution from Maria Vincenzi).\n",
    "\n",
    "Here you can find a quick example.\n",
    "\n",
    "Remember that:\n",
    "1) 90% of the times Core Collapse SNe are presented in the standard filter system (not in natural filter system). This means that photometry is presented as it would have been observed by the \"standard\" Bessell/SDSS filter set. The \"standard\" Bessell/SDSS filter sets are stored in inputs/Filters/GeneralFilters. The main exception is CSP data, usually presented in natural system. Therfore, for CSP objects we use inputs/Filters/Site3_CSP.\n",
    "\n",
    "2) Magnitudes in Bessell filters (UBVRI) are usually calculated in the Vega system and calibrated to Landolt standards\n",
    "\n",
    "3) Magnitudes in SDSS filters (ugriz) are usually calculated in the AB system and calibrated to Smith 2002 standards\n",
    "\n",
    "4) Magnitudes in Space Telescope SWIFT filters (W2,M2,W1,U,B,V) are usually calculated in the Vega system. See Peter Brown's paper for calibration of the instrument.\n"
   ]
  },
  {
   "cell_type": "code",
   "execution_count": null,
   "metadata": {},
   "outputs": [],
   "source": []
  },
  {
   "cell_type": "code",
   "execution_count": 2,
   "metadata": {},
   "outputs": [],
   "source": [
    "import os\n",
    "COCO_PATH=os.environ['COCO_PATH']"
   ]
  },
  {
   "cell_type": "code",
   "execution_count": 3,
   "metadata": {},
   "outputs": [],
   "source": [
    "import pandas as pd\n",
    "import numpy as np\n",
    "\n",
    "import sys\n",
    "sys.path.insert(0, COCO_PATH+'what_the_flux/')\n",
    "import what_the_flux as wtf"
   ]
  },
  {
   "cell_type": "code",
   "execution_count": 10,
   "metadata": {},
   "outputs": [],
   "source": [
    "snname = 'iPTF13bvn'"
   ]
  },
  {
   "cell_type": "code",
   "execution_count": 11,
   "metadata": {},
   "outputs": [],
   "source": [
    "INPUT_LC_PATH = COCO_PATH+\"Inputs/Photometry/0_LCs_mags_raw/%s_mag.dat\"%snname\n",
    "OUTPUT_LC_PATH = COCO_PATH+\"Inputs/Photometry/1_LCs_flux_raw/%s.dat\"%snname\n",
    "FILTERS_PATH = COCO_PATH+\"Inputs/Filters/\""
   ]
  },
  {
   "cell_type": "code",
   "execution_count": 12,
   "metadata": {},
   "outputs": [],
   "source": [
    "Vega_filt = ['Bessell_U', 'Bessell_B','Bessell_V','Bessell_R','Bessell_I', \n",
    "            'swift_UVW2', 'swift_UVM2', 'swift_UVW1', 'swift_U', 'swift_B','swift_V',\n",
    "            'Y', 'H', 'J', 'K', 'Ks']\n",
    "AB_filt = ['sdss_u', 'sdss_g','sdss_r','sdss_i','sdss_z', \n",
    "            \"sdss_u'\", \"sdss_g'\", \"sdss_r'\", \"sdss_i'\", \"sdss_z'\"]\n",
    "\n",
    "CSP_SNe = ['SN2004fe', 'SN2005bf', 'SN2006V', 'SN2007C', 'SN2007Y',\n",
    "           'SN2009bb',  'SN2008aq', 'SN2006T', 'SN2004gq', 'SN2004gt',\n",
    "           'SN2004gv','SN2006ep', 'SN2008fq', 'SN2006aa']\n"
   ]
  },
  {
   "cell_type": "code",
   "execution_count": 14,
   "metadata": {},
   "outputs": [],
   "source": [
    "fout = open(OUTPUT_LC_PATH, 'w')\n",
    "fout.write('# From Mags to Flux, not MW/Host dust corrected\\n')\n",
    "fout.close()\n",
    "\n",
    "phot_mags= pd.read_csv(INPUT_LC_PATH, comment='#')\n",
    "filter_set = 'GeneralFilters' if snname not in CSP_SNe else 'Site3_CSP'\n",
    "                \n",
    "fluxes = []\n",
    "fluxes_err = []\n",
    "filter_set_list = []             \n",
    "\n",
    "for index, row in phot_mags.iterrows():\n",
    "    \n",
    "    w,t = wtf.loadFilter(FILTERS_PATH+'%s/%s.dat'%(filter_set, row['band']))\n",
    "    if row['band'] in Vega_filt: band = wtf.Band_Vega(w,t)\n",
    "    elif row['band'] in AB_filt: band = wtf.Band_AB(w,t)\n",
    "    else: print ('Filter system?!?!?')\n",
    "    flux_withMW = wtf.mag2flux(band, row['Mag']).value\n",
    "    flux_err_withMW = wtf.ERRmag2ERRflux(band, row['Mag'], row['Mag_err']).value\n",
    "    fluxes.append(flux_withMW)\n",
    "    fluxes_err.append(flux_err_withMW)\n",
    "    filter_set_list.append(filter_set)\n",
    "                \n",
    "phot_mags['Flux'] = fluxes\n",
    "phot_mags['Flux_err'] = fluxes_err\n",
    "phot_mags['FilterSet'] = filter_set_list\n",
    "phot_mags[['MJD','Mag','Mag_err','Flux','Flux_err','band','Instr','FilterSet']].to_csv(OUTPUT_LC_PATH, index=False)"
   ]
  },
  {
   "cell_type": "code",
   "execution_count": null,
   "metadata": {},
   "outputs": [],
   "source": []
  }
 ],
 "metadata": {
  "anaconda-cloud": {},
  "kernelspec": {
   "display_name": "Python [conda env:anaconda2_7]",
   "language": "python",
   "name": "conda-env-anaconda2_7-py"
  },
  "language_info": {
   "codemirror_mode": {
    "name": "ipython",
    "version": 2
   },
   "file_extension": ".py",
   "mimetype": "text/x-python",
   "name": "python",
   "nbconvert_exporter": "python",
   "pygments_lexer": "ipython2",
   "version": "2.7.6"
  }
 },
 "nbformat": 4,
 "nbformat_minor": 2
}
