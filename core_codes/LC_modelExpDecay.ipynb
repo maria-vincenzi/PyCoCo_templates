{
 "cells": [
  {
   "cell_type": "code",
   "execution_count": 1,
   "metadata": {},
   "outputs": [
    {
     "data": {
      "text/html": [
       "<style>.container { width:90% !important; }</style>"
      ],
      "text/plain": [
       "<IPython.core.display.HTML object>"
      ]
     },
     "metadata": {},
     "output_type": "display_data"
    }
   ],
   "source": [
    "import numpy as np\n",
    "import sklearn\n",
    "import matplotlib.pyplot as plt\n",
    "import os\n",
    "import pandas as pd\n",
    "import emcee\n",
    "\n",
    "%matplotlib inline\n",
    "from IPython.core.display import display, HTML\n",
    "display(HTML(\"<style>.container { width:90% !important; }</style>\"))"
   ]
  },
  {
   "cell_type": "code",
   "execution_count": 2,
   "metadata": {},
   "outputs": [],
   "source": [
    "import scipy.optimize as opt\n",
    "\n",
    "import george\n",
    "from george.kernels import ExpSquaredKernel, ConstantKernel, Matern32Kernel"
   ]
  },
  {
   "cell_type": "code",
   "execution_count": 3,
   "metadata": {},
   "outputs": [],
   "source": [
    "DATALC_PATH = \"/Users/mariavincenzi/PhD/pycoco_2/prepare_photometry/Final_LC_NOMW_dust_corr/\"\n",
    "DATAMAIN_PATH= \"/Users/mariavincenzi/PhD/pycoco_2/data/\"\n",
    "\n",
    "#OUTPUT\n",
    "# - fitted_photometry\n",
    "#  for each object (1) Table with fitted photometry @spctra MJD\n",
    "#                  (2) high cadence fitted photometry \n",
    "#                  (3) plot of the fit in each band\n",
    "\n",
    "mm_cob56 = 1./77.\n",
    "mm_ni56 = 1./6.\n"
   ]
  },
  {
   "cell_type": "code",
   "execution_count": 4,
   "metadata": {},
   "outputs": [],
   "source": [
    "info_objects = np.genfromtxt(DATAMAIN_PATH+'info/info.dat', dtype=None, names=True, encoding='utf-8')\n",
    "name_type = dict(zip(info_objects['snname'], info_objects['Type']))"
   ]
  },
  {
   "cell_type": "code",
   "execution_count": 5,
   "metadata": {},
   "outputs": [
    {
     "data": {
      "text/plain": [
       "dict_keys(['SN2006T', 'SN2016X', 'SN2006bp', 'SN2002ap', 'SN2005bf', 'SN2009er', 'SN2010bq', 'SN2004aw', 'SN2013fs', 'SN2004gv', 'SN1996cb', 'SN2009ib', 'SN2009dd', 'SN2017eaw', 'SN2003bg', 'SN2009bb', 'SN2003jd', 'SN2008in', 'SN2008bj', 'SN2005cs', 'SN2009jf', 'SN2006aj', 'SN1998A', 'SN2009kr', 'SN2013ab', 'SN2004et', 'SN2004gt', 'SN2011hs', 'SN2013df', 'SN2006aa', 'SN1999dn', 'ASASSN15oz', 'SN2004gq', 'SN2009mg', 'SN2007pk', 'SN2009iz', 'SN2007ru', 'SN2004fe', 'SN2005db', 'SN1999em', 'SN2005hg', 'SN2008bo', 'SN2009N', 'SN2013hj', 'SN2007uy', 'iPTF13bvn', 'SN1994I', 'SN2009E', 'SN2007od', 'ASASSN15no', 'SN2011ei', 'SN2014G', 'SN2008D', 'SN2002gd', 'SN2004A', 'SN2012au', 'SN1998bw', 'SN2012ap', 'SN2011ht', 'SN2008fq', 'ASASSN14jb', 'SN2007C', 'SN2011bm', 'SN2013ge', 'SN2006el', 'SN2010al', 'SN1993J', 'SN1998S', 'SN2007Y', 'SN2016gkg', 'SN2000cb', 'SN2008aq', 'SN2009ip', 'SN2006ep', 'SN2005cp', 'SN2012aw', 'SN2011fe', 'SN2008ax', 'SN2006V', 'SN2007gr', 'SN2006jc', 'SN2012A', 'SN1999el', 'SN2009bw', 'SN2011dh', 'SN2013by', 'SN2016bkv', 'SN2013am', 'SN2011fu', 'SN2012ec', 'SN2013ej', 'SN2000eo'])"
      ]
     },
     "execution_count": 5,
     "metadata": {},
     "output_type": "execute_result"
    }
   ],
   "source": [
    "name_type.keys()"
   ]
  },
  {
   "cell_type": "code",
   "execution_count": 6,
   "metadata": {},
   "outputs": [],
   "source": [
    "color_dict = {'A':'grey',\n",
    "              'BessellU': 'blue',\n",
    "              'BessellB': 'royalblue',\n",
    "                'BessellV':  'limegreen',\n",
    "                'BessellR':  'red',\n",
    "                'BessellI':  'mediumvioletred',\n",
    "                'SDSS_g':    'darkgreen',\n",
    "                'SDSS_i':    'purple',\n",
    "                'SDSS_r':    'darkred',\n",
    "                'SDSS_z':    'sienna',\n",
    "                'SDSS_u': 'darkblue',\n",
    "                'swift_UVW1':'grey',\n",
    "                'swift_UVW2':'grey',\n",
    "                'swift_UVM2':'grey',\n",
    "                'swift_U':'grey',\n",
    "                'swift_V':'grey',\n",
    "                'swift_B':'grey'}\n",
    "\n",
    "color_dict = {'A':'grey',\n",
    "              'Bessell_U': 'blue',\n",
    "              'Bessell_B': 'royalblue',\n",
    "                'Bessell_V':  'limegreen',\n",
    "                'Bessell_R':  'red',\n",
    "                'Bessell_I':  'mediumvioletred',\n",
    "                'sdss_g':    'darkgreen','ptf_g':    'darkgreen', \"sdss_g'\":    'darkgreen',\n",
    "                'sdss_i':    'indianred', \"sdss_i'\":    'indianred',\n",
    "                'sdss_r':    'darkred', \"sdss_r'\":    'darkred',\n",
    "                'sdss_z':    'sienna', \"sdss_z'\":    'sienna',\n",
    "                'sdss_u': 'darkblue', \"sdss_u'\": 'darkblue',\n",
    "                'Y':  'salmon','H':  'darkred', 'J':  'k',\n",
    "              'Ks':  'brown','K':  'brown',\n",
    "                'swift_UVW1':'indigo',\n",
    "                'swift_UVW2':'darkblue',\n",
    "                'swift_UVM2':'darkmagenta',\n",
    "                'swift_U':'plum',\n",
    "                'swift_V':'teal',\n",
    "                'swift_B':'powderblue'}\n",
    "\n",
    "exclude_filt = ['H', 'J', 'K', 'Ks','KS', 'Y']"
   ]
  },
  {
   "cell_type": "code",
   "execution_count": 7,
   "metadata": {},
   "outputs": [],
   "source": [
    "def err_to_log10(flux, err_flux):\n",
    "    flux=np.array(flux, dtype=float)\n",
    "    err_flux=np.array(err_flux, dtype=float)\n",
    "    return 1./np.log(10.) * err_flux/flux\n",
    "\n",
    "def err_from_log10(logflux, logerr_flux):\n",
    "    return np.log(10.) * 10**logflux * logerr_flux\n",
    "\n",
    "## linear regression from x,y independent errors\n",
    "def lin_regr_weigthed(x,y,w):\n",
    "    Delta = sum(w)*sum(w*x**2) - (sum(w*x))**2\n",
    "    A = ( sum(w*x**2)*sum(w*y) - sum(w*x)*sum(w*y*x) )/(Delta)\n",
    "    B = ( sum(w)*sum(w*y*x) - sum(w*x)*sum(w*y) )/(Delta)\n",
    "    print (A,B)\n",
    "    sigma_A = np.sqrt( sum(w*x**2)/Delta )\n",
    "    sigma_B = np.sqrt( sum(w)/Delta )\n",
    "    print (sigma_A,sigma_B)\n",
    "\n",
    "\n",
    "    return (A,B,sigma_A,sigma_B)"
   ]
  },
  {
   "cell_type": "code",
   "execution_count": 8,
   "metadata": {},
   "outputs": [],
   "source": [
    "\n",
    "class SNPhotometryClass():\n",
    "    \"\"\"Class with photometry for each object:\n",
    "            - load the photometry from the DATA folder\n",
    "            - get the phootmetry in each filter\n",
    "            - plot the raw photometry \n",
    "            - fit the photometry using GP\n",
    "    \"\"\"\n",
    "    \n",
    "    def __init__(self, main_path, lc_path, snname, verbose=False):\n",
    "        \"\"\"\n",
    "        \"\"\"\n",
    "\n",
    "        ## Initialise the class variables\n",
    "        self.main_path = main_path\n",
    "        self.lc_data_path = lc_path+'/'\n",
    "        #self.lc_data_path = '/Users/mariavincenzi/PhD/pycoco_2/data/lc/'\n",
    "\n",
    "        self.spec_data_path = main_path+'/spec/'\n",
    "        self.snname = snname   \n",
    "        self.set_data_directory(verbose)\n",
    "\n",
    "    def set_data_directory(self, verbose):\n",
    "        \"\"\"\n",
    "        Set a new data directory path.\n",
    "        Enables the data directory to be changed by the user.\n",
    "        \"\"\"\n",
    "        SNphotometry_PATH = os.path.join(self.lc_data_path, '%s.dat'%self.snname)\n",
    "        \n",
    "        try:\n",
    "            if verbose: print('Looking for Photometry for %s in%s'%(self.snname, SNphotometry_PATH))\n",
    "            if os.path.isfile(SNphotometry_PATH):\n",
    "                if verbose: print ('Got it!')\n",
    "                self.sn_rawphot_file = SNphotometry_PATH\n",
    "                pass\n",
    "            else:\n",
    "                if not os.path.isdir(self.lc_data_path):\n",
    "                    print ('I cant find the directory with photometry. Check %s'%self.lc_data_path)\n",
    "                    pass\n",
    "                else: \n",
    "                    print ('I cant find the file with photometry. Check %s'%SNphotometry_PATH)\n",
    "                    pass\n",
    "    \n",
    "        except Exception as e:\n",
    "            print (e)\n",
    "\n",
    "    def load(self, verbose = False):\n",
    "        \"\"\"\n",
    "        Loads a single photometry file.\n",
    "        with ('MJD', 'flux', 'flux_err', 'filter')\n",
    "        \n",
    "        Parameters\n",
    "        - verbose\n",
    "        ----------\n",
    "        Returns\n",
    "        - photometry in all filters\n",
    "        -------\n",
    "        \"\"\"\n",
    "        if verbose: print('Loading %s'%self.sn_rawphot_file)\n",
    "        try:\n",
    "            lc_file = np.genfromtxt(self.sn_rawphot_file,\n",
    "                                    names=['MJD','filter','flux','flux_err','FilterSet'], \n",
    "                                    usecols=[0,1,2,3,4], \n",
    "                                    dtype=None,encoding=\"utf-8\")\n",
    "\n",
    "            mask_filt = np.array([f not in exclude_filt for f in lc_file['filter']])\n",
    "            lc_no_badfilters = lc_file[mask_filt]\n",
    "            mask_filt = np.array([~np.isnan(f) for f in lc_no_badfilters['flux']])\n",
    "            self.phot = lc_no_badfilters[mask_filt]\n",
    "            \n",
    "            #filtname_filtset = [fn+'__'+fs for fn,fs in zip(self.phot['filter'], self.phot['FilterSet'])]\n",
    "            self.avail_filters = np.unique(self.phot['filter'])\n",
    "\n",
    "            self.phot_extended = self.phot\n",
    "            print ('Photometry loaded')\n",
    "\n",
    "            \n",
    "        except Exception as e:\n",
    "            print (e)\n",
    "            print ('Are you sure you gave me the right format? Check documentation in case.')\n",
    "\n",
    "    def get_availfilter(self, verbose = False):\n",
    "        \"\"\"\n",
    "        get available filter for this SN\n",
    "        \"\"\"\n",
    "        #if photometry is not already loaded, load it!\n",
    "        if (not hasattr(self, \"phot\"))|(not hasattr(self, \"avail_filters\")):\n",
    "            self.load()\n",
    "        return self.avail_filters\n",
    "        \n",
    "    def get_singlefilter(self, single_filter, extended_clipped = False, verbose = False):\n",
    "        \"\"\"\n",
    "        Loads from photometry file just 1 filter photometry.\n",
    "        with ('MJD', 'flux', 'flux_err', 'filter')\n",
    "        \n",
    "        Parameters\n",
    "        - verbose\n",
    "        ----------\n",
    "        Returns\n",
    "        - photometry in all filters\n",
    "        -------\n",
    "        \"\"\"\n",
    "        #if photometry is not already loaded, load it!\n",
    "        if not hasattr(self, \"phot\"):\n",
    "            self.load()\n",
    "\n",
    "        if not (isinstance(single_filter, str)):\n",
    "            print ('Single filter string please')\n",
    "            return None\n",
    "        \n",
    "        if single_filter not in self.avail_filters:\n",
    "            print ('Looks like the filter you are looking for is not available')\n",
    "            return None\n",
    "        \n",
    "        if extended_clipped:\n",
    "            if not hasattr(self, \"phot_extended\"):\n",
    "                self.extend_photometry()\n",
    "            filt_index = self.phot_extended['filter']==single_filter\n",
    "            return self.phot_extended[filt_index] \n",
    "        else: \n",
    "            filt_index = self.phot['filter']==single_filter\n",
    "            return self.phot[filt_index]\n",
    "        \n",
    "    \n",
    "    def get_mjdpeak(self, verbose = False):\n",
    "        \"\"\"\n",
    "        Loads from photometry for each filter, measure peak for each filter\n",
    "        get a rough estimate of the paek_mjd\n",
    "        \n",
    "        Parameters\n",
    "        - verbose\n",
    "        ----------\n",
    "        Returns\n",
    "        - rough estimate of the peak_mjd\n",
    "        -------\n",
    "        \"\"\"\n",
    "        #if photometry is not already loaded, load it!\n",
    "        if not hasattr(self, \"phot\"):\n",
    "            self.load()\n",
    "            \n",
    "        mjd_peaks_list=[]\n",
    "        for f in self.avail_filters:\n",
    "            phot_perfilt = self.get_singlefilter(f)\n",
    "            mjd_peak = phot_perfilt['MJD'][np.argmax(phot_perfilt['flux'])]\n",
    "            mjd_peaks_list.append(mjd_peak)\n",
    "            \n",
    "        return np.min(mjd_peaks_list)\n",
    "    \n",
    "    def extend_photometry(self, before_peak=30., after_peak=500., verbose = False):\n",
    "        \"\"\"\n",
    "        Extend photometry in every filter        \n",
    "        Parameters\n",
    "        - verbose\n",
    "        ----------\n",
    "        Returns\n",
    "        - rough estimate of the peak_mjd\n",
    "        -------\n",
    "        \"\"\"\n",
    "        #if photometry is not already loaded, load it!\n",
    "        if not hasattr(self, \"phot\"):\n",
    "            self.load()\n",
    "\n",
    "        if not hasattr(self, \"clipped_phot\"):\n",
    "            self.clip_photometry()\n",
    "        \n",
    "        mjd_peak = self.get_mjdpeak()\n",
    "        LC = self.clipped_phot\n",
    "        \n",
    "        filt_avail = self.avail_filters\n",
    "\n",
    "        mjd_ext_early = min((mjd_peak - before_peak), min(LC['MJD']))\n",
    "        before_peak = mjd_peak - mjd_ext_early -5.\n",
    "\n",
    "        mjd_ext_latly = (mjd_peak + after_peak)\n",
    "        \n",
    "        LC_extended = LC\n",
    "        \n",
    "        for filt in filt_avail:\n",
    "            LC_xfilter = LC[LC['filter']==filt]\n",
    "\n",
    "        self.phot_extended = self.clipped_phot\n",
    "        return self.clipped_phot\n",
    "\n",
    "    def plot_raw_phot(self, filt_list=None, plt_extended_clipped=False, save_fig=False, \\\n",
    "                      save_format='png', output_path_name=None):\n",
    "        \n",
    "        #if photometry is not already loaded, load it!\n",
    "        if not hasattr(self, \"phot\"):\n",
    "            self.load()\n",
    "        if (plt_extended_clipped)&(not hasattr(self, \"phot_extended\")):\n",
    "            self.extend_photometry()\n",
    "\n",
    "        if filt_list:\n",
    "            filt_toplot = filt_list\n",
    "        else:\n",
    "            filt_toplot = self.avail_filters\n",
    "        fig = plt.figure(1)\n",
    "        for f in filt_toplot:\n",
    "            phot_f = self.get_singlefilter(f, extended_clipped=plt_extended_clipped)\n",
    "            plt.errorbar(phot_f['MJD'], phot_f['flux'], phot_f['flux_err'],\\\n",
    "                         marker='.', linestyle='None', label=f)\n",
    "        plt.legend(loc='best')\n",
    "        plt.show()\n",
    "        if save_fig:\n",
    "            if output_path_name:\n",
    "                fig.savefig(output_path_name)\n",
    "            else:\n",
    "                fig.savefig(self.sn_rawphot_file.replace('.dat', '_raw_photo.%s'%save_format))\n",
    "        return None\n",
    "\n",
    "    def plot_GP_fit_phot(self, filt_list=None, save_fig=False, save_format='png', output_path_name=None):\n",
    "        \n",
    "        #if photometry is not already loaded, load it!\n",
    "        if not hasattr(self, \"phot\"):\n",
    "            self.load()\n",
    "        \n",
    "        if not hasattr(self, \"gp\"):\n",
    "            self.load()\n",
    "\n",
    "        if filt_list:\n",
    "            filt_toplot = filt_list\n",
    "        else:\n",
    "            filt_toplot = self.avail_filters\n",
    "        fig = plt.figure(1)\n",
    "        for f in filt_toplot:\n",
    "            phot_f = self.get_singlefilter(f)\n",
    "            plt.errorbar(phot_f['MJD'], phot_f['flux'], yerr=phot_f['flux_err'],\\\n",
    "                         marker='.', linestyle='None', label=f)\n",
    "        plt.legend(loc='best')\n",
    "        plt.show()\n",
    "        if save_fig:\n",
    "            if output_path_name:\n",
    "                fig.savefig(output_path_name)\n",
    "            else:\n",
    "                fig.savefig(self.sn_rawphot_file.replace('.dat', '_raw_photo.%s'%save_format))\n",
    "        return None\n",
    "\n",
    "\n",
    "\n",
    "    def clip_LC_filter(self, filter_name, clipping_mjd_delta = 0.5):\n",
    "        \n",
    "        def clip_one_point(mjd_unclipped, flux_unclipped, fluxerr_unclipped, instr_unclipped, clipping_index):\n",
    "            mjd_tbc = np.array([mjd_unclipped[clipping_index], mjd_unclipped[clipping_index+1]])\n",
    "            flux_tbc = np.array([flux_unclipped[clipping_index], flux_unclipped[clipping_index+1]])\n",
    "            flux_err_tbc = np.array([fluxerr_unclipped[clipping_index], fluxerr_unclipped[clipping_index+1]])\n",
    "            mjd_avg = np.average(mjd_tbc)\n",
    "            flux_avg, sum_w = np.average(flux_tbc, weights= 1./(flux_err_tbc)**2, returned=True)\n",
    "            flux_err_avg = max([np.std(flux_tbc), np.sqrt(1./sum_w)])\n",
    "            clipped_mjd_sorted = np.delete(mjd_unclipped, clipping_index)\n",
    "            clipped_flux_sorted = np.delete(flux_unclipped, clipping_index)\n",
    "            clipped_flux_err_sorted = np.delete(fluxerr_unclipped, clipping_index)\n",
    "            clipped_instr_sorted = np.delete(instr_unclipped, clipping_index)\n",
    "            clipped_mjd_sorted[clipping_index] = mjd_avg\n",
    "            clipped_flux_sorted[clipping_index] = flux_avg\n",
    "            clipped_flux_err_sorted[clipping_index] = flux_err_avg\n",
    "            #print ('I clipped index:', clipping_index, ' Lenght was %i, now is %i '%(len(mjd_unclipped), len(clipped_mjd_sorted)))\n",
    "            return clipped_mjd_sorted, clipped_flux_sorted, clipped_flux_err_sorted, clipped_instr_sorted\n",
    "    \n",
    "        LC_filt = self.get_singlefilter(filter_name)\n",
    "        mjd_sorted = np.sort(LC_filt['MJD'])\n",
    "        flux_sorted = LC_filt['flux'][np.argsort(LC_filt['MJD'])]\n",
    "        flux_err_sorted = LC_filt['flux_err'][np.argsort(LC_filt['MJD'])]\n",
    "        instr_sorted = LC_filt['FilterSet'][np.argsort(LC_filt['MJD'])]\n",
    "\n",
    "        new_mjd_sorted = np.array([round(m,2) for m in mjd_sorted]) \n",
    "        double = np.where(np.abs(new_mjd_sorted[:-1]-new_mjd_sorted[1:])<clipping_mjd_delta)\n",
    "        new_flux_sorted = np.copy(flux_sorted)\n",
    "        new_flux_err_sorted = np.copy(flux_err_sorted)\n",
    "        new_Instr_sorted = np.copy(instr_sorted)\n",
    "        \n",
    "        while len(np.where(np.abs(new_mjd_sorted[:-1]-new_mjd_sorted[1:])<clipping_mjd_delta)[0])>=1:\n",
    "            tbc_indexes = np.where(np.abs(new_mjd_sorted[:-1]-new_mjd_sorted[1:])<clipping_mjd_delta)[0]\n",
    "            ind = tbc_indexes[0]\n",
    "            R = clip_one_point(new_mjd_sorted, new_flux_sorted, new_flux_err_sorted, new_Instr_sorted, ind)\n",
    "            new_mjd_sorted, new_flux_sorted, new_flux_err_sorted, new_Instr_sorted= R\n",
    "        new_filter_sorted = np.full(len(new_mjd_sorted), filter_name, dtype='|S20')\n",
    "        new_LC=[]\n",
    "        for i in zip(new_mjd_sorted, new_filter_sorted, new_flux_sorted, new_flux_err_sorted, new_Instr_sorted):\n",
    "            new_LC.append(i)\n",
    "        new_LC = np.array(new_LC, LC_filt.dtype)\n",
    "        \n",
    "        print (filter_name, 'Before clipping %i, after %i'%(len(mjd_sorted), len(new_LC)))\n",
    "        return new_LC\n",
    "    \n",
    "    def clip_photometry(self, verbose = False):\n",
    "        \"\"\"\n",
    "        Extend photometry in every filter        \n",
    "        Parameters\n",
    "        - verbose\n",
    "        ----------\n",
    "        Returns\n",
    "        - rough estimate of the peak_mjd\n",
    "        -------\n",
    "        \"\"\"\n",
    "        #if photometry is not already loaded, load it!\n",
    "        if not hasattr(self, \"phot\"):\n",
    "            self.load()\n",
    "        \n",
    "        filt_avail = self.avail_filters\n",
    "        \n",
    "        clipping_mjd_delta = 0.2\n",
    "        LC_clipped = np.array([], self.phot.dtype) \n",
    "        for ff in filt_avail:\n",
    "            LC_xfilter = self.clip_LC_filter(ff, clipping_mjd_delta)\n",
    "            LC_clipped = np.concatenate([LC_clipped, LC_xfilter])\n",
    "        self.clipped_phot = LC_clipped\n",
    "        return None\n",
    "    \n",
    "    def get_spec_mjd(self, verbose=False):\n",
    "        phase_list_file = self.main_path + 'spec_lists_smoothed/' + self.snname+'.list'\n",
    "        try: \n",
    "            parse_phase = np.genfromtxt(phase_list_file, dtype=None, encoding=\"utf-8\")\n",
    "            return parse_phase['f0']\n",
    "        except: \n",
    "            #print ('I looked into %s and I found NO spectra? Ooops'%phase_list_file)\n",
    "            raise Exception(' !!!!!!!!!!!!! \\n I looked into %s and I found NO spectra? Ooops'%phase_list_file)\n",
    "            return np.array([])\n",
    "        \n",
    "    def get_spec_list(self, verbose=False):\n",
    "        phase_list_file = self.main_path + 'spec_lists_smoothed/' + self.snname+'.list'\n",
    "        try: \n",
    "            parse_phase = np.genfromtxt(phase_list_file, dtype=None,encoding=\"utf-8\")\n",
    "            return parse_phase['f2']\n",
    "        except: \n",
    "            print ('I looked into %s and I found NO spectra? Ooops'%phase_list_file)\n",
    "            return np.array([])\n",
    "        \n",
    "    def get_noise_level(self):\n",
    "        if not hasattr(self, \"avail_filters\"):\n",
    "            self.load()\n",
    "        default_wn_noise_dict = dict(zip(self.avail_filters, np.array(['10e-5' for i in self.avail_filters])))\n",
    "        white_noise_file = np.genfromtxt(self.lc_data_path+'white_noise_level_file.dat',\\\n",
    "                                         comments='#', names=True, dtype=None, encoding=\"utf-8\")\n",
    "        if self.snname not in white_noise_file['snname']:\n",
    "            return default_wn_noise_dict\n",
    "        else:\n",
    "            tuned_values = white_noise_file[white_noise_file['snname']==self.snname]\n",
    "            wn_noise_dict = dict(zip(tuned_values['filt'], (tuned_values['noise'])))\n",
    "            return wn_noise_dict\n",
    "    \n",
    "    def get_anchoring(self, filt):\n",
    "        if not hasattr(self, \"avail_filters\"):\n",
    "            self.load()\n",
    "        default_anchor_before = 'n'\n",
    "        default_anchor_after = 'n'\n",
    "\n",
    "        anchoring_file = np.genfromtxt(self.lc_data_path+'white_noise_level_file.dat',\\\n",
    "                                         comments='#', names=True, dtype=None, encoding=\"utf-8\")\n",
    "        if self.snname not in anchoring_file['snname']:\n",
    "            return default_anchor_before, default_anchor_after\n",
    "        else:\n",
    "            tuned_values = anchoring_file[(anchoring_file['snname']==self.snname)&(anchoring_file['filt']==filt)]\n",
    "            return tuned_values['anchor_before'], tuned_values['anchor_after']\n",
    "        \n",
    "    def LC_extend_xfilter(self, filt, minMJD=None, maxMJD=None):\n",
    "        LC_filt_extended = self.get_singlefilter(filt, extended_clipped=True)\n",
    "\n",
    "\n",
    "        mjd_unsorted = LC_filt_extended['MJD']\n",
    "        mjd = np.sort(mjd_unsorted)\n",
    "        orig_flux = LC_filt_extended['flux'][np.argsort(mjd_unsorted)]\n",
    "        orig_flux_err = LC_filt_extended['flux_err'][np.argsort(mjd_unsorted)]\n",
    "\n",
    "        ## norm time\n",
    "        offset_time = mjd[np.argmax(orig_flux)]\n",
    "        t = mjd - offset_time\n",
    "        t_spectra = self.get_spec_mjd() - offset_time\n",
    "        ## norm flux\n",
    "        max_fl = max(orig_flux)\n",
    "        logf = -np.log(orig_flux/max_fl)\n",
    "        logferr = orig_flux_err/orig_flux\n",
    "\n",
    "        mask_lenght = dict_phase_tail[self.snname][filt]\n",
    "        mask_tail = t>mask_lenght\n",
    "        t_lr = t[mask_tail]\n",
    "        logf_lr = logf[mask_tail]\n",
    "        logferr_lr = logferr[mask_tail]\n",
    "        w_lr = 1./logferr_lr**2\n",
    "        \n",
    "        fig = plt.figure(figsize=(22,4))\n",
    "        plt.subplot(141)\n",
    "        plt.errorbar(t, logf, yerr=logferr, marker='.', \n",
    "                     mfc='grey', mec='grey', color='grey', linestyle='None')\n",
    "        \n",
    "        plt.errorbar(t_lr, logf_lr, yerr=logferr_lr,marker='.', \n",
    "                     mfc='k', mec='k', color='k', linestyle='None')\n",
    "        plt.title(self.snname+'  '+filt)\n",
    "\n",
    "        #max_phase = ?\n",
    "        mjd_last_spec = max(t_spectra)\n",
    "        mjd_last_phot_point = max(t_lr)\n",
    "        #end_lc = max(mjd_last_spec, 200)\n",
    "        end_lc = min( max(mjd_last_phot_point, 200), 250)\n",
    "\n",
    "        print (filt, mjd_last_phot_point)\n",
    "        if (mjd_last_phot_point +100) < end_lc:\n",
    "            max_phase = mjd_last_phot_point + 100\n",
    "        else:\n",
    "            max_phase = end_lc\n",
    "\n",
    "        #min(max(max(t_spectra)+20,  max(t_lr)+100),230)\n",
    "        \n",
    "        new_t = np.arange(min(t_lr), max_phase,1.)\n",
    "        #new_t = np.arange(150., max_phase,1.)\n",
    "\n",
    "        \n",
    "        plt.subplot(142)\n",
    "        plt.errorbar(t_lr, logf_lr, yerr=logferr_lr,marker='.', \n",
    "                     mfc='k', mec='k', color='k', linestyle='None')\n",
    "        \n",
    "        qq, mm, sigma_qq, sigma_mm = lin_regr_weigthed(t_lr, logf_lr,w_lr)\n",
    "\n",
    "        plt.text(min(new_t),max(mm*(new_t)+qq), '%.3f'%mm, fontsize=20)\n",
    "        plt.plot(new_t, mm*(new_t)+qq, '.', color=\"#4682b4\", alpha=1)\n",
    "        err_prop_func = lambda x: ( (x*sigma_mm)**2 + sigma_qq**2 )**0.5        \n",
    "        \n",
    "        plt.fill_between(new_t, mm*(new_t)+qq - err_prop_func(new_t),\n",
    "                          mm*(new_t)+qq + err_prop_func(new_t), color=\"#4682b4\", alpha=0.3)\n",
    "        \n",
    "        plt.plot(new_t, mm_cob56*(new_t)+qq, \"^g\", alpha=0.5)\n",
    "        #plt.plot(new_t, mm_ni56*(new_t)+qq, \"g--\", alpha=0.5)\n",
    "        plt.title(self.snname+'  '+filt)\n",
    "        #\n",
    "        \n",
    "        if (mm<mm_cob56)&(name_type[self.snname] not in ['IIP','IIL','II']):\n",
    "            plt.subplot(143)\n",
    "            plt.errorbar(t_lr, logf_lr-mm_cob56*t_lr, yerr=logferr_lr,marker='.', \n",
    "             mfc='k', mec='k', color='k', linestyle='None')\n",
    "            avg, inv_err = np.average(logf_lr-mm_cob56*t_lr, weights=1/(logferr_lr**2), returned=True)\n",
    "            sigma_qq = np.std(logf_lr-mm_cob56*t_lr)\n",
    "            plt.hlines(avg, min(t_lr), max(t_lr), 'r')\n",
    "            plt.fill_between(new_t,  avg-sigma_qq,\n",
    "                          avg+sigma_qq, color=\"r\", alpha=0.2)\n",
    "            mm=mm_cob56\n",
    "            qq= avg\n",
    "\n",
    "\n",
    "        fit = max_fl * np.exp(-(new_t*mm+qq))\n",
    "        fit_err = np.abs(fit * err_prop_func(new_t))\n",
    "        \n",
    "        #plt.errorbar(t, orig_flux, yerr=orig_flux_err, marker='.', \n",
    "        #             mfc='grey', mec='grey', color='grey', linestyle='None')\n",
    "        plt.subplot(144)\n",
    "        plt.errorbar(t_lr, orig_flux[mask_tail], yerr=orig_flux_err[mask_tail], marker='.', \n",
    "                     mfc='k', mec='k', color='k', linestyle='None')\n",
    "\n",
    "        plt.errorbar(new_t, fit, yerr=fit_err, marker='.', \n",
    "                     mfc='white', mec='r', color='r', linestyle='None')\n",
    "        plt.title(self.snname+'  '+filt)\n",
    "        plt.show()\n",
    "        \n",
    "        return (new_t+offset_time, fit, fit_err)\n",
    "\n",
    "\n",
    "    def save_plot_GPfit(self, save_fig_output=None):\n",
    "        if not hasattr(self, \"results_mainpath\"):\n",
    "            self.create_results_folder()\n",
    "\n",
    "        if not hasattr(self, \"fitted_phot\"):\n",
    "            self.LCfit_withGP()\n",
    "        else:\n",
    "            print (\"\"\"LC fit already done. I will use the one that it.s available.\n",
    "If you want to do again the LC fit call the function self.LCfit_withGP() again.\"\"\")\n",
    "\n",
    "\n",
    "        max_flux = [10**-20]\n",
    "        fig = plt.figure(figsize=(20,5))\n",
    "        for f in self.avail_filters:\n",
    "            c = color_dict[f]\n",
    "            mjd, flux, err_flux = self.fitted_phot[f]['clipped_extended_data'] \n",
    "            new_mjd, mu, std= self.fitted_phot[f]['fit_highcadence'] \n",
    "\n",
    "            a=plt.errorbar(mjd, flux, yerr=err_flux, fmt='.', mfc= c, \\\n",
    "                       elinewidth=0.8, color= c,linestyle='None')\n",
    "            plt.plot(new_mjd, mu, color=a[0].get_color(), label=f)\n",
    "            plt.fill_between(new_mjd, (mu+std), (mu-std), color=a[0].get_color(), alpha=0.1)\n",
    "            max_flux.append(max(flux))\n",
    "        \n",
    "        plt.hlines(0, min(new_mjd)-7., max(new_mjd))\n",
    "        plt.vlines(self.get_spec_mjd(), 10**-20, max(max_flux), lw=0.8, linestyle=':', color='k', label='Spectra')\n",
    "        try:\n",
    "            plt.xlim(min(self.phot_extended['MJD'])-7., max(self.phot_extended['MJD'])+30.)\n",
    "        except:\n",
    "            plt.xlim(min(self.phot_extended['MJD'])-7., max(self.phot_extended['MJD'])+30.)\n",
    "\n",
    "        plt.legend(fontsize=11, loc='best', fancybox=True, framealpha=0.5)\n",
    "        plt.title(self.snname+'  '+filt)\n",
    "        if save_fig_output is None:\n",
    "            fig.savefig(self.results_mainpath+'fittedGP_%s_.pdf'%self.snname, bbox_inches='tight')\n",
    "        else:\n",
    "            fig.savefig(save_fig_output, bbox_inches='tight')\n",
    "        return None\n",
    "    \n",
    "\n",
    "    def create_extended_LC(self, name_file = None):\n",
    "        lc_file = pd.DataFrame(np.genfromtxt(self.sn_rawphot_file,\n",
    "                               names=['MJD','band','Flux','Flux_err','FilterSet', 'Source'], \n",
    "                               usecols=[0,1,2,3,4,5], \n",
    "                               dtype=None,encoding=\"utf-8\"))\n",
    "        \n",
    "        for ff in dict_phase_tail[self.snname]:\n",
    "            print (ff)\n",
    "            extr_pts_pd = pd.DataFrame().reindex_like(lc_file)[:0]\n",
    "            \n",
    "            mjd_new, fit, fit_err = self.LC_extend_xfilter(ff)\n",
    "            extr_pts_pd['MJD'] = mjd_new\n",
    "            extr_pts_pd['band'] = np.full(len(mjd_new), fill_value=ff)\n",
    "            extr_pts_pd['Flux'] = fit\n",
    "            extr_pts_pd['Flux_err'] = fit_err\n",
    "            extr_pts_pd['FilterSet'] = np.full(len(mjd_new), fill_value='SUDO_PTS')\n",
    "            extr_pts_pd['Source'] = np.full(len(mjd_new), fill_value='SUDO_PTS')\n",
    "            lc_file = lc_file.append(extr_pts_pd)\n",
    "        return lc_file\n",
    "    "
   ]
  },
  {
   "cell_type": "code",
   "execution_count": 20,
   "metadata": {},
   "outputs": [],
   "source": [
    "dict_phase_tail = {'SN2008ax':{'Bessell_B':70, 'Bessell_R':70, 'Bessell_I':70, 'Bessell_V':70},\n",
    "'SN1993J':{'Bessell_B':75, 'Bessell_R':55, 'Bessell_I':55, 'Bessell_U':20, 'Bessell_V':55},\n",
    "'SN1998bw':{'Bessell_B':13, 'Bessell_R':13, 'Bessell_I':13, 'Bessell_U':15, 'Bessell_V':13}, \n",
    "'SN1994I':{'Bessell_R':40, 'Bessell_I':45, 'Bessell_V':45, 'Bessell_B':35}, \n",
    "'SN2012aw':{#'Bessell_B':120, #'Bessell_R':120, #'Bessell_I':120, #'sdss_g':120, #'sdss_u':20, \n",
    "    'Bessell_U':100, 'swift_UVW1':40, 'swift_UVW2':40}, \n",
    "'SN2013df':{ 'Bessell_B':40, 'Bessell_I':40, 'Bessell_R':40, 'Bessell_V':40}, \n",
    "'SN2011dh':{'Bessell_B':25, 'Bessell_I':25, 'Bessell_R':25, 'Bessell_V':25, 'Bessell_U':25, 'swift_UVW1':30, 'swift_UVW2':25}, \n",
    "'iPTF13bvn':{ 'Bessell_B':25, 'Bessell_I':25, 'Bessell_R':25, 'Bessell_V':25, \n",
    "             \"sdss_g'\":50, \"sdss_r'\":50, \"sdss_i'\":50, },\n",
    "'SN2011bm':{\"sdss_i'\":25, \"sdss_g'\":25, 'Bessell_B':55, 'Bessell_R':55, 'Bessell_I':55, 'Bessell_U':25, 'Bessell_V':55, \"sdss_u'\":30,\n",
    "            \"sdss_r'\":55, \"sdss_z'\":25, \"sdss_r'\":25}, \n",
    "'SN2011hs':{'Bessell_B':25, 'Bessell_R':25, 'Bessell_I':20, 'Bessell_V':25}, \n",
    "'SN2011ei':{'Bessell_V':17,'Bessell_R':13}, #'Bessell_R':13, 'Bessell_I':15, 'swift_B':15,\n",
    "'SN2002ap':{'Bessell_R':30, 'Bessell_I':25,  'Bessell_V':30}, #'Bessell_U':15,\n",
    "'SN2012ap':{'Bessell_B':10, 'Bessell_R':10, 'Bessell_I':10, 'Bessell_V':10, 'swift_B':10}, \n",
    "'SN2013ge':{'Bessell_V':25, 'swift_B':25, 'swift_U':25, 'swift_V':25, 'swift_UVW1':11, \"sdss_r'\":25, \"sdss_i'\":25}, \n",
    "'SN2004aw':{'Bessell_B':45, 'Bessell_R':45, 'Bessell_I':45, 'Bessell_U':30, 'Bessell_V':45}, \n",
    "'SN2007gr':{'Bessell_B':80, 'Bessell_R':80, 'Bessell_I':80, 'Bessell_U':80, 'Bessell_V':80, \"sdss_r'\":80, \"sdss_i'\":80}, \n",
    "'SN2004fe':{'Bessell_V':25, 'sdss_g':25, 'sdss_r':25, 'sdss_i':25},#'sdss_u':10 #'Bessell_B':25, \n",
    "'SN2005bf':{'Bessell_B':40, 'Bessell_V':40, 'sdss_i':15, 'sdss_u':10}, \n",
    "#'SN2006aj':{'Bessell_B':5, 'Bessell_V':5, \"sdss_r'\":5, \"sdss_i'\":5, \"swift_B\":5, \"swift_U\":5, \"swift_UVW1\":2}, \n",
    "'SN2010al':{'Bessell_B':17, 'Bessell_V':13, \"sdss_i'\":13, \"sdss_u'\":20, \"swift_B\":15,\n",
    "            \"swift_U\":13, \"swift_UVW1\":2, \"swift_UVW1\":5}, #\"sdss_r'\":15,\n",
    "'SN2007pk':{'Bessell_B':30, 'Bessell_V':30, 'Bessell_R':30, 'Bessell_I':40, \"sdss_r'\":30, \"swift_B\":15,\n",
    "     \"swift_U\":15, \"swift_UVW1\":5, \"swift_UVW2\":5, \"swift_V\":15}, \n",
    "'SN2005cs':{'Bessell_B':125, 'Bessell_V':140, 'Bessell_R':60, 'Bessell_I':60},#'Bessell_U':40\n",
    "    #'sdss_z':10, #'swift_B':10, #'swift_UVW1':5, #'swift_UVW2':5}, \n",
    "'SN2008bo':{'Bessell_B':40, 'Bessell_V':40, \"sdss_i'\":40, \"sdss_r'\":40}, #'swift_B':35, 'swift_V':35, \n",
    "'SN2007uy':{ 'Bessell_B':93, 'Bessell_V':40, \"sdss_i'\":40, \"sdss_r'\":40, }, #'swift_UVW1':5,\n",
    "'SN2008bj':{'Bessell_U':15, 'Bessell_B':40, 'Bessell_V':65, \"sdss_r'\":65, \"sdss_i'\":65}, \n",
    "'SN2007Y':{\"sdss_g\":20, \"sdss_i\":15, \"sdss_r\":15,  \"Bessell_B\":20, \"Bessell_V\":20,},# 'swift_UVW1':5, \"sdss_u\":5,\n",
    "'SN2009bb':{'Bessell_B':30, 'Bessell_V':30, \"sdss_g\":30, \"sdss_i\":30, \"sdss_r\":30, \"sdss_u\":20}, \n",
    "'SN2009iz':{\"Bessell_B\":30, \"Bessell_V\":60, \"sdss_i'\":60, \"sdss_r'\":60 }, \n",
    "    #\"sdss_u'\":5, #\"swift_B\":3, #\"swift_U\":3, #\"swift_UVW1\":3, #\"swift_V \":3 \n",
    "'SN2013ab':{'Bessell_U':70},\n",
    "    #'swift_U':30,  #\"swift_UVW1\":30,  #\"swift_UVW2\":15}, \n",
    "'SN2009jf':{\"Bessell_R\":65},\n",
    "    #\"sdss_r\":25, \"sdss_r'\":50, \"Bessell_B\":65, \"Bessell_I\":65, \"sdss_u\":25, \"sdss_z\":30\n",
    "    #\"Bessell_U\":50, \"Bessell_V\":65, \"sdss_g\":25, \"sdss_i\":30, \"sdss_i'\":50,\n",
    "'SN2009bw':{\"Bessell_U\":40}, \n",
    "'SN1999em':{\"Bessell_U\":50,\"Bessell_I\":50,\"Bessell_R\":50,\"Bessell_V\":100}, \n",
    "'SN2004et':{\"Bessell_U\":40}, \n",
    "'SN2007od':{\"Bessell_V\":130, \"Bessell_I\":130, \"Bessell_R\":130}, \n",
    "'SN2013by':{\"swift_UVW1\":25, \"swift_UVW2\":25, \"Bessell_V\":80,  \"sdss_g\":90, \"sdss_i\":80, \"sdss_r\":80},#\"swift_U\":30, \"sdss_u\":25, \n",
    "'SN2006bp':{\"swift_UVW1\":20, \"swift_UVW2\":15},#\"swift_U\":20, \"Bessell_U\":20,  \n",
    "'SN2008in':{\"swift_UVW1\":10, \"swift_U\":20},#, \"swift_UVW2\":20, 'Bessell_B':100, \"sdss_r'\":100, \"sdss_i'\":100, 'Bessell_V':100}, \n",
    "'SN2012A':{\"Bessell_U\":40}, \n",
    "'SN2009dd':{\"Bessell_U\":20}, \n",
    "'SN1999dn':{\"Bessell_B\":30, \"Bessell_V\":30, \"Bessell_R\":30}, \n",
    "'SN2006T':{\"Bessell_V\":80,  \"sdss_g\":80, \"sdss_i\":80, \"sdss_r\":80,\"sdss_u\":15}, \n",
    "'SN2004gq':{\"Bessell_V\":35,  \"sdss_g\":35, \"sdss_i\":35, \"sdss_r\":35, \"sdss_u\":35}, \n",
    "'SN2016gkg':{'Bessell_B':30, 'Bessell_V':35, 'Bessell_R':35, 'Bessell_I':35},\n",
    "'SN2006ep':{'Bessell_B':40, 'Bessell_V':40, 'sdss_g':40, 'sdss_r':40, 'sdss_i':40}, \n",
    "'SN2004gv':{'Bessell_B':20, 'Bessell_V':25, 'sdss_g':25, 'sdss_r':25, 'sdss_u':10}, #'sdss_i':25,\n",
    "'SN2004gt':{ 'Bessell_B':40, 'Bessell_V':40, 'sdss_r':40, 'sdss_i':40}, #'sdss_g':25, 'sdss_u':10\n",
    "#'SN2005bf':{'Bessell_B':50, 'Bessell_V':50, 'sdss_g':50, 'sdss_r':50, 'sdss_i':50, 'sdss_u':50}, \n",
    "'SN2013ej':{'Bessell_B':95, 'Bessell_V':95, 'Bessell_R':95, 'Bessell_U':90, 'Bessell_I':95}, \n",
    "'SN2008aq':{'Bessell_B':60, 'Bessell_V':60, 'sdss_g':60, 'sdss_r':60, 'sdss_i':60, 'sdss_u':10}, \n",
    "#'SN2013am':{'Bessell_B':40},#'Bessell_V':105, 'Bessell_R':105, 'Bessell_I':105,  \n",
    "'SN2006aa':{'Bessell_B':40, 'Bessell_V':40, \"sdss_g'\":40, \"sdss_r'\":40, \"sdss_i'\":40,  \"sdss_u'\":20}, \n",
    "'SN2005hg':{'Bessell_B':30, 'Bessell_V':50, \"sdss_r'\":50, \"sdss_i'\":50}, \n",
    "'SN2006V':{'Bessell_V':40, 'sdss_g':40, 'sdss_r':40, 'sdss_i':40}, \n",
    "'SN2007ru':{'Bessell_B':30, 'Bessell_V':50, 'Bessell_R':70, 'Bessell_I':50, 'Bessell_U':20}, \n",
    "#'SN2004gv':{'Bessell_B':50, 'Bessell_V':50, 'Bessell_R':50, 'Bessell_I':50, 'Bessell_U':20}, \n",
    "#'SN2009dd':{'Bessell_B':120, 'Bessell_V':120, 'Bessell_R':120, 'Bessell_I':120, 'Bessell_U':20}, \n",
    "#'SN2012A':{'Bessell_B':140, 'Bessell_V':140, 'Bessell_R':140, 'Bessell_I':140}, \n",
    "'SN2009bw':{'Bessell_V':140, 'Bessell_R':140, 'Bessell_I':140}, \n",
    "'SN2011fu':{'Bessell_V':50, 'Bessell_R':50, 'Bessell_I':50}, \n",
    "'SN2016bkv':{'Bessell_U':32, },#'Bessell_B':40, 'sdss_g':40}, \n",
    "'SN2011ht':{'Bessell_V':80, 'Bessell_R':100, 'Bessell_I':100}, #'swift_UVW1':30,'swift_UVW2':30, 'swift_U':40, \n",
    "#'SN2000cb':{'Bessell_B':80, 'Bessell_V':80}, \n",
    "#'SN1999dn':{'Bessell_R':100, 'Bessell_V':100}, \n",
    "'SN2017eaw':{'Bessell_U':50, 'swift_UVW1':50,'swift_UVW2':50}, \n",
    "'SN2008bj':{ \"sdss_r'\":70, \"sdss_i'\":75, 'Bessell_V':75}, #'Bessell_U':20, 'Bessell_B':60,\n",
    "'SN2009ib':{\"sdss_u'\":10, 'Bessell_B':135, \"sdss_g'\":135,  'Bessell_V':135, 'Bessell_R':135}, \n",
    "'SN2008D':{'Bessell_B':60, \"sdss_r'\":40, \"sdss_i'\":40, 'Bessell_V':40}, \n",
    "'SN2008fq':{\"Bessell_B\":45, \"Bessell_V\":45, \"sdss_g'\":45, \"sdss_i'\":45, \"sdss_r'\":45, \"sdss_u'\":35},\n",
    "'SN2016X':{'Bessell_B':88, 'Bessell_V':90, 'Bessell_R':90, 'Bessell_I':90, 'Bessell_U':65, \n",
    "           \"sdss_g\":90, \"sdss_i\":95, \"sdss_r\":84, 'swift_UVW1':25,'swift_UVW2':25}, \n",
    "'SN2009kr':{ 'Bessell_V':70,  'Bessell_I':70, 'Bessell_R':70}, #'swift_U':20,  'Bessell_B':40,\n",
    "'SN2012au':{'Bessell_V':40,  'Bessell_I':40, 'Bessell_R':40, 'sdss_z':40}, \n",
    "'ASASSN14jb':{'Bessell_B':100,  'Bessell_V':100}, \n",
    "'ASASSN15oz':{'Bessell_B':80, 'Bessell_V':80,  'sdss_g':80, 'sdss_i':80, 'sdss_r':80, 'swift_U':20, 'swift_UVW1':20}\n",
    "} "
   ]
  },
  {
   "cell_type": "code",
   "execution_count": 21,
   "metadata": {},
   "outputs": [],
   "source": [
    "import shutil"
   ]
  },
  {
   "cell_type": "code",
   "execution_count": 22,
   "metadata": {},
   "outputs": [],
   "source": [
    "sn_list = [f.replace('.dat','') for f in os.listdir(DATALC_PATH) if '.dat' in f]\n"
   ]
  },
  {
   "cell_type": "code",
   "execution_count": 23,
   "metadata": {
    "scrolled": true
   },
   "outputs": [
    {
     "name": "stdout",
     "output_type": "stream",
     "text": [
      "Looking for Photometry for SN2011ht in/Users/mariavincenzi/PhD/pycoco_2/prepare_photometry/Final_LC_NOMW_dust_corr//SN2011ht.dat\n",
      "Got it!\n",
      "Photometry loaded\n",
      "Bessell_B Before clipping 17, after 17\n",
      "Bessell_I Before clipping 18, after 18\n",
      "Bessell_R Before clipping 19, after 19\n",
      "Bessell_V Before clipping 18, after 18\n",
      "swift_B Before clipping 16, after 16\n",
      "swift_U Before clipping 16, after 16\n",
      "swift_UVM2 Before clipping 15, after 15\n",
      "swift_UVW1 Before clipping 16, after 16\n",
      "swift_UVW2 Before clipping 16, after 16\n",
      "swift_V Before clipping 16, after 16\n",
      "Bessell_I\n",
      "Bessell_I 162.6999999999971\n",
      "1.2256103499487985 0.028072730309963784\n",
      "0.5543477293820764 0.003827165440098874\n"
     ]
    },
    {
     "data": {
      "image/png": "[encoded data removed]",
      "text/plain": [
       "<Figure size 1584x288 with 3 Axes>"
      ]
     },
     "metadata": {},
     "output_type": "display_data"
    },
    {
     "name": "stdout",
     "output_type": "stream",
     "text": [
      "Bessell_R\n",
      "Bessell_R 180.79999999999563\n",
      "1.8859444249631805 0.02644399643905898\n",
      "0.45081515709464454 0.0028467257809169375\n"
     ]
    },
    {
     "data": {
      "image/png": "[encoded data removed]",
      "text/plain": [
       "<Figure size 1584x288 with 3 Axes>"
      ]
     },
     "metadata": {},
     "output_type": "display_data"
    },
    {
     "name": "stdout",
     "output_type": "stream",
     "text": [
      "Bessell_V\n",
      "Bessell_V 147.6999999999971\n",
      "3.4353577862968905 0.02117037728706722\n",
      "0.5413383486084978 0.004745004733640641\n"
     ]
    },
    {
     "data": {
      "image/png": "[encoded data removed]",
      "text/plain": [
       "<Figure size 1584x288 with 3 Axes>"
      ]
     },
     "metadata": {},
     "output_type": "display_data"
    }
   ],
   "source": [
    "for sn in ['SN2011ht']:\n",
    "    if sn in list(dict_phase_tail.keys()):\n",
    "        prova2 = SNPhotometryClass(main_path=DATAMAIN_PATH, lc_path= DATALC_PATH,snname=sn, verbose=True)\n",
    "        prova2.load()\n",
    "        prova2.get_availfilter()\n",
    "        prova2.clip_photometry()\n",
    "        df = prova2.create_extended_LC()\n",
    "        df.to_csv(prova2.sn_rawphot_file.replace('/Final_LC_NOMW_dust_corr/','/Final_LC_NOMW_sudopts/'), na_rep='nan',\n",
    "              index=False, sep='\\t', header=['#MJD','band','Flux','Flux_err','FilterSet','Source'])\n",
    "    else:\n",
    "        file = DATALC_PATH+sn+'.dat'\n",
    "        shutil.copy2(file, file.replace('/Final_LC_NOMW_dust_corr/','/Final_LC_NOMW_sudopts/'))\n",
    "        print ('copied', file.replace('/Final_LC_NOMW_dust_corr/','/Final_LC_NOMW_sudopts/'))\n"
   ]
  },
  {
   "cell_type": "code",
   "execution_count": 13,
   "metadata": {},
   "outputs": [
    {
     "name": "stdout",
     "output_type": "stream",
     "text": [
      "Looking for Photometry for SN2011ei in/Users/mariavincenzi/PhD/pycoco_2/prepare_photometry/Final_LC_NOMW_dust_corr//SN2011ei.dat\n",
      "Got it!\n",
      "Photometry loaded\n",
      "Bessell_B Before clipping 9, after 9\n",
      "Bessell_I Before clipping 10, after 10\n",
      "Bessell_R Before clipping 11, after 11\n",
      "Bessell_V Before clipping 12, after 12\n",
      "swift_B Before clipping 21, after 21\n",
      "swift_U Before clipping 14, after 14\n",
      "swift_UVW1 Before clipping 9, after 9\n",
      "swift_UVW2 Before clipping 5, after 5\n",
      "swift_V Before clipping 21, after 21\n"
     ]
    },
    {
     "data": {
      "text/plain": [
       "array(['Bessell_B', 'Bessell_I', 'Bessell_R', 'Bessell_V', 'swift_B',\n",
       "       'swift_U', 'swift_UVW1', 'swift_UVW2', 'swift_V'], dtype='<U10')"
      ]
     },
     "execution_count": 13,
     "metadata": {},
     "output_type": "execute_result"
    }
   ],
   "source": [
    "prova2 = SNPhotometryClass(main_path=DATAMAIN_PATH, lc_path= DATALC_PATH,snname='SN2011ei', verbose=True)\n",
    "prova2.load()\n",
    "prova2.get_availfilter()\n",
    "prova2.clip_photometry()\n",
    "prova2.get_availfilter()"
   ]
  },
  {
   "cell_type": "code",
   "execution_count": 14,
   "metadata": {},
   "outputs": [
    {
     "data": {
      "image/png": "[encoded data removed]",
      "text/plain": [
       "<Figure size 432x288 with 1 Axes>"
      ]
     },
     "metadata": {},
     "output_type": "display_data"
    }
   ],
   "source": [
    "for ff in np.unique(prova2.clipped_phot['filter'])[:]:\n",
    "    msk=prova2.clipped_phot['filter']==ff\n",
    "    plt.plot(prova2.clipped_phot['MJD'][msk]-min(prova2.clipped_phot['MJD']),\n",
    "             prova2.clipped_phot['flux'][msk], 'o', ms=4, alpha=0.9, label=ff)\n",
    "plt.legend(ncol=3, fontsize=9)\n",
    "plt.yscale('log')\n"
   ]
  },
  {
   "cell_type": "code",
   "execution_count": 16,
   "metadata": {},
   "outputs": [
    {
     "data": {
      "image/png": "[encoded data removed]",
      "text/plain": [
       "<Figure size 432x288 with 1 Axes>"
      ]
     },
     "metadata": {},
     "output_type": "display_data"
    }
   ],
   "source": [
    "for ff in ['Bessell_B', 'Bessell_V', 'Bessell_R','Bessell_I']:#np.unique(prova2.clipped_phot['filter'])[4:]:\n",
    "    msk=prova2.clipped_phot['filter']==ff\n",
    "    plt.plot(prova2.clipped_phot['MJD'][msk]-min(prova2.clipped_phot['MJD']),\n",
    "             prova2.clipped_phot['flux'][msk], 'o', ms=7, alpha=0.7, label=ff)\n",
    "plt.legend(ncol=3, fontsize=9)\n",
    "plt.yscale('log')\n"
   ]
  },
  {
   "cell_type": "code",
   "execution_count": 17,
   "metadata": {},
   "outputs": [
    {
     "data": {
      "image/png": "[encoded data removed]",
      "text/plain": [
       "<Figure size 432x288 with 1 Axes>"
      ]
     },
     "metadata": {},
     "output_type": "display_data"
    }
   ],
   "source": [
    "for ff in ['swift_UVW1', 'swift_UVW2']:\n",
    "    msk=prova2.clipped_phot['filter']==ff\n",
    "    plt.plot(prova2.clipped_phot['MJD'][msk]-min(prova2.clipped_phot['MJD']),\n",
    "             prova2.clipped_phot['flux'][msk], 'o', ms=7, alpha=0.7, label=ff)\n",
    "plt.legend(ncol=3, fontsize=9)\n",
    "plt.yscale('log')\n"
   ]
  },
  {
   "cell_type": "code",
   "execution_count": 129,
   "metadata": {
    "scrolled": false
   },
   "outputs": [
    {
     "name": "stdout",
     "output_type": "stream",
     "text": [
      "Bessell_U\n",
      "0.6170036004277629 0.03916854299003573\n",
      "0.43884881624958305 0.005743042658952603\n"
     ]
    },
    {
     "data": {
      "image/png": "[encoded data removed]",
      "text/plain": [
       "<Figure size 1584x288 with 3 Axes>"
      ]
     },
     "metadata": {},
     "output_type": "display_data"
    }
   ],
   "source": [
    "df = prova2.create_extended_LC()\n",
    "df.to_csv(prova2.sn_rawphot_file.replace('/Final_LC_NOMW/','/Final_LC_NOMW_sudopts/'),na_rep='nan',\n",
    "      index=False, sep='\\t', header=['#MJD','band','Flux','Flux_err','FilterSet','Source'])"
   ]
  },
  {
   "cell_type": "code",
   "execution_count": null,
   "metadata": {},
   "outputs": [],
   "source": [
    "\n"
   ]
  },
  {
   "cell_type": "code",
   "execution_count": 94,
   "metadata": {},
   "outputs": [
    {
     "name": "stdout",
     "output_type": "stream",
     "text": [
      "Looking for Photometry for SN2011dh in/Users/mariavincenzi/PhD/pycoco_2/prepare_photometry/Final_LC_NOMW//SN2011dh.dat\n",
      "Got it!\n",
      "Photometry loaded\n",
      "Bessell_B Before clipping 12, after 12\n",
      "Bessell_I Before clipping 12, after 12\n",
      "Bessell_R Before clipping 12, after 12\n",
      "Bessell_U Before clipping 12, after 12\n",
      "Bessell_V Before clipping 12, after 12\n",
      "swift_B Before clipping 39, after 39\n",
      "swift_U Before clipping 40, after 39\n",
      "swift_UVW1 Before clipping 38, after 38\n",
      "swift_UVW2 Before clipping 39, after 38\n",
      "swift_V Before clipping 39, after 39\n"
     ]
    },
    {
     "data": {
      "text/plain": [
       "<ErrorbarContainer object of 3 artists>"
      ]
     },
     "execution_count": 94,
     "metadata": {},
     "output_type": "execute_result"
    },
    {
     "data": {
      "image/png": "[encoded data removed]",
      "text/plain": [
       "<Figure size 432x288 with 1 Axes>"
      ]
     },
     "metadata": {},
     "output_type": "display_data"
    }
   ],
   "source": [
    "prova2 = SNPhotometryClass(main_path=DATAMAIN_PATH, lc_path= DATALC_PATH,snname='SN2011dh', verbose=True)\n",
    "prova2.load()\n",
    "prova2.get_availfilter()\n",
    "prova2.clip_photometry()\n",
    "\n",
    "LC_filt_extended = prova2.get_singlefilter(\"swift_U\", extended_clipped=True)\n",
    "\n",
    "mjd_unsorted = LC_filt_extended['MJD']\n",
    "mjd = np.sort(mjd_unsorted)\n",
    "orig_flux = LC_filt_extended['flux'][np.argsort(mjd_unsorted)]\n",
    "orig_flux_err = LC_filt_extended['flux_err'][np.argsort(mjd_unsorted)]\n",
    "\n",
    "# prepare data to feed the GP\n",
    "## norm time\n",
    "offset_time = mjd[np.argmax(orig_flux)]\n",
    "t = mjd - offset_time\n",
    "## norm flux\n",
    "max_fl = max(orig_flux)\n",
    "logf = -np.log(orig_flux/max_fl)\n",
    "logferr = orig_flux_err/orig_flux\n",
    "\n",
    "### linear regression to guess the slope\n",
    "\n",
    "mask_lenght = 25#dict_Phase_Decay[prova2.snname]\n",
    "mask_tail = t>mask_lenght\n",
    "t_lr = t[mask_tail]\n",
    "logf_lr = logf[mask_tail]\n",
    "logferr_lr = logferr[mask_tail]\n",
    "w_lr = 1./logferr_lr**2\n",
    "\n",
    "plt.errorbar(t, logf, yerr=logferr, marker='.', \n",
    "             mfc='grey', mec='grey', color='grey', linestyle='None')\n",
    "\n",
    "plt.errorbar(t_lr, logf_lr, yerr=logferr_lr,marker='.', \n",
    "             mfc='k', mec='k', color='k', linestyle='None')\n",
    "\n"
   ]
  },
  {
   "cell_type": "code",
   "execution_count": 95,
   "metadata": {},
   "outputs": [
    {
     "name": "stdout",
     "output_type": "stream",
     "text": [
      "2.8382849975375946 -0.007383736570896134\n",
      "0.11907046451462751 0.002692232309784682\n"
     ]
    },
    {
     "data": {
      "image/png": "[encoded data removed]",
      "text/plain": [
       "<Figure size 432x288 with 1 Axes>"
      ]
     },
     "metadata": {},
     "output_type": "display_data"
    },
    {
     "data": {
      "image/png": "[encoded data removed]",
      "text/plain": [
       "<Figure size 432x288 with 1 Axes>"
      ]
     },
     "metadata": {},
     "output_type": "display_data"
    },
    {
     "ename": "NameError",
     "evalue": "name 'err_prop_func' is not defined",
     "output_type": "error",
     "traceback": [
      "\u001b[0;31m---------------------------------------------------------------------------\u001b[0m",
      "\u001b[0;31mNameError\u001b[0m                                 Traceback (most recent call last)",
      "\u001b[0;32m<ipython-input-95-0207cd86f16f>\u001b[0m in \u001b[0;36m<module>\u001b[0;34m()\u001b[0m\n\u001b[1;32m     40\u001b[0m \u001b[0mplt\u001b[0m\u001b[0;34m.\u001b[0m\u001b[0mhlines\u001b[0m\u001b[0;34m(\u001b[0m\u001b[0;36m0\u001b[0m\u001b[0;34m,\u001b[0m \u001b[0mmin\u001b[0m\u001b[0;34m(\u001b[0m\u001b[0mt_lr\u001b[0m\u001b[0;34m)\u001b[0m\u001b[0;34m,\u001b[0m \u001b[0mmax\u001b[0m\u001b[0;34m(\u001b[0m\u001b[0mt_lr\u001b[0m\u001b[0;34m)\u001b[0m\u001b[0;34m,\u001b[0m \u001b[0;34m'r'\u001b[0m\u001b[0;34m)\u001b[0m\u001b[0;34m\u001b[0m\u001b[0m\n\u001b[1;32m     41\u001b[0m \u001b[0;34m\u001b[0m\u001b[0m\n\u001b[0;32m---> 42\u001b[0;31m plt.fill_between(new_t,  - err_prop_func(new_t),\n\u001b[0m\u001b[1;32m     43\u001b[0m                   + err_prop_func(new_t), color=\"r\", alpha=0.2)\n\u001b[1;32m     44\u001b[0m \u001b[0mplt\u001b[0m\u001b[0;34m.\u001b[0m\u001b[0mxlabel\u001b[0m\u001b[0;34m(\u001b[0m\u001b[0;34m'MJD'\u001b[0m\u001b[0;34m)\u001b[0m\u001b[0;34m\u001b[0m\u001b[0m\n",
      "\u001b[0;31mNameError\u001b[0m: name 'err_prop_func' is not defined"
     ]
    },
    {
     "data": {
      "image/png": "[encoded data removed]",
      "text/plain": [
       "<Figure size 1440x216 with 1 Axes>"
      ]
     },
     "metadata": {},
     "output_type": "display_data"
    }
   ],
   "source": [
    "new_t = np.arange(min(t_lr), max(t_lr)+50 ,3)\n",
    "\n",
    "plt.errorbar(t, logf, yerr=logferr,marker='.', \n",
    "             mfc='grey', mec='grey', color='grey', linestyle='None')\n",
    "\n",
    "plt.errorbar(t_lr, logf_lr, yerr=logferr_lr,marker='.', \n",
    "             mfc='k', mec='k', color='k', linestyle='None')\n",
    "\n",
    "qq, mm, sigma_qq, sigma_mm = lin_regr_weigthed(t_lr, logf_lr,w_lr)\n",
    "\n",
    "plt.plot(new_t, mm*(new_t)+qq, '--', color=\"#4682b4\", alpha=1)\n",
    "plt.plot(new_t, mm_cob56*(new_t)+qq, '^', color=\"g\", alpha=1)\n",
    "\n",
    "plt.xlabel('MJD')\n",
    "plt.ylabel('LOG Flux')\n",
    "plt.show()\n",
    "\n",
    "plt.errorbar(t_lr, logf_lr-mm_cob56*t_lr, yerr=logferr_lr,marker='.', \n",
    "             mfc='k', mec='k', color='k', linestyle='None')\n",
    "\n",
    "\n",
    "if mm<mm_cob56:\n",
    "    avg, inv_err = np.average(logf_lr-mm_cob56*t_lr, weights=1/(logferr_lr**2), returned=True)\n",
    "    #std_qq = np.sqrt(1./inv_err)\n",
    "    sigma_qq = np.std(logf_lr-mm_cob56*t_lr)\n",
    "    plt.hlines(avg, min(t_lr), max(t_lr), 'r')\n",
    "    plt.fill_between(new_t,  avg-sigma_qq,\n",
    "                  avg+sigma_qq, color=\"r\", alpha=0.2)\n",
    "    plt.show()\n",
    "    mm=mm_cob56\n",
    "    qq= avg\n",
    "\n",
    "\n",
    "fsub_lr = np.exp(-(logf_lr)) - np.exp(-(t_lr*mm+qq))\n",
    "ferrsub_lr = np.copy(orig_flux_err[mask_tail])/max(orig_flux)\n",
    "\n",
    "fig = plt.figure(1, figsize=(20,3))\n",
    "plt.errorbar(t_lr, fsub_lr, yerr=ferrsub_lr,marker='.', \n",
    "             mfc='k', mec='k', color='k', linestyle='None')\n",
    "plt.hlines(0, min(t_lr), max(t_lr), 'r')\n",
    "\n",
    "plt.fill_between(new_t,  - err_prop_func(new_t),\n",
    "                  + err_prop_func(new_t), color=\"r\", alpha=0.2)\n",
    "plt.xlabel('MJD')\n",
    "plt.ylabel('LOG Flux - LINEAR REGRESSION')\n",
    "\n",
    "plt.xlim(min(t_lr)-1, max(t_lr)+1)\n",
    "plt.show()\n",
    "\n",
    "plt.errorbar(t_lr, logf_lr, yerr=logferr_lr,marker='.', \n",
    "             mfc='k', mec='k', color='k', linestyle='None')\n",
    "plt.xlabel('MJD')\n",
    "plt.ylabel('LOG Flux')\n",
    "\n",
    "\n",
    "plt.plot(new_t, mm*(new_t)+qq, '.', color=\"#4682b4\", alpha=1)\n",
    "err_prop_func = lambda x: ( (x*sigma_mm)**2 + sigma_qq**2 )**0.5\n",
    "\n",
    "plt.fill_between(new_t, mm*(new_t)+qq - err_prop_func(new_t),\n",
    "                  mm*(new_t)+qq + err_prop_func(new_t), color=\"#4682b4\", alpha=0.3)\n",
    "plt.plot(new_t, mm_cob56*(new_t)+qq, '^', color=\"g\", alpha=1)\n",
    "\n",
    "plt.show()\n",
    "#\n",
    "\n",
    "fit = max_fl * np.exp(-(new_t*mm+qq))\n",
    "fit_err = np.abs(fit * err_prop_func(new_t))\n",
    "\n",
    "#plt.errorbar(t, orig_flux, yerr=orig_flux_err, marker='.', \n",
    "#             mfc='grey', mec='grey', color='grey', linestyle='None')\n",
    "\n",
    "plt.errorbar(t_lr, orig_flux[mask_tail], yerr=orig_flux_err[mask_tail], marker='.', \n",
    "             mfc='k', mec='k', color='k', linestyle='None')\n",
    "\n",
    "plt.errorbar(new_t, fit, yerr=fit_err, marker='.', \n",
    "             mfc='white', mec='r', color='r', linestyle='None')\n",
    "plt.xlabel('MJD')\n",
    "plt.ylabel('Flux')\n",
    "\n",
    "\n",
    "plt.show()\n",
    "\n",
    "plt.errorbar(t, orig_flux, yerr=orig_flux_err, marker='.', \n",
    "             mfc='k', mec='k', color='k', linestyle='None')\n",
    "\n",
    "plt.errorbar(new_t, fit, yerr=fit_err, marker='.', \n",
    "             mfc='white', mec='r', color='r', linestyle='None')\n",
    "plt.xlabel('MJD')\n",
    "plt.ylabel('Flux')\n",
    "\n",
    "\n",
    "plt.show()\n",
    "\n"
   ]
  },
  {
   "cell_type": "code",
   "execution_count": null,
   "metadata": {},
   "outputs": [],
   "source": [
    "gp_sub = george.GP(np.var(fsub_lr)*Matern32Kernel(20.))\n",
    "gp_sub.compute(t_lr, ferrsub_lr)\n",
    "\n",
    "def ll(p):\n",
    "    gp_sub.set_parameter_vector(p)\n",
    "    return -gp_sub.lnlikelihood(fsub_lr, quiet=False)#\n",
    "def grad_ll(p):\n",
    "    gp_sub.set_parameter_vector(p)\n",
    "    return -gp_sub.grad_lnlikelihood(fsub_lr, quiet=False)\n",
    "        \n",
    "p0=gp_sub.get_parameter_vector()\n",
    "results = opt.minimize(ll, p0, jac=grad_ll)\n",
    "\n",
    "mu,cov = gp_sub.predict(fsub_lr, new_t, return_cov=True)\n",
    "std = np.sqrt(np.diag(cov))\n",
    "\n",
    "plt.errorbar(t_lr, fsub_lr, yerr=ferrsub_lr,marker='.', \n",
    "             mfc='k', mec='k', color='k', linestyle='None')\n",
    "\n",
    "plt.plot(new_t, mu, color=\"#4682b4\", alpha=1)\n",
    "plt.fill_between(new_t, mu-std, mu+std, color=\"#4682b4\", alpha=0.3)\n"
   ]
  },
  {
   "cell_type": "code",
   "execution_count": 818,
   "metadata": {},
   "outputs": [
    {
     "data": {
      "image/png": "[encoded data removed]",
      "text/plain": [
       "<Figure size 432x288 with 1 Axes>"
      ]
     },
     "metadata": {},
     "output_type": "display_data"
    },
    {
     "data": {
      "text/plain": [
       "<ErrorbarContainer object of 3 artists>"
      ]
     },
     "execution_count": 818,
     "metadata": {},
     "output_type": "execute_result"
    },
    {
     "data": {
      "image/png": "[encoded data removed]",
      "text/plain": [
       "<Figure size 432x288 with 1 Axes>"
      ]
     },
     "metadata": {},
     "output_type": "display_data"
    }
   ],
   "source": [
    "plt.errorbar(t_lr, orig_flux[mask_tail], yerr=orig_flux_err[mask_tail], marker='.', \n",
    "             mfc='k', mec='k', color='k', linestyle='None')\n",
    "\n",
    "fit = max_fl*(mu + np.exp(-(new_t*mm+qq)))\n",
    "fit_err = std*max_fl\n",
    "plt.plot(new_t, fit)\n",
    "plt.fill_between(new_t, fit-fit_err, fit+fit_err, color=\"#4682b4\", alpha=0.3)\n",
    "plt.show()\n",
    "\n",
    "plt.errorbar(t, orig_flux, yerr=orig_flux_err, marker='.', \n",
    "             mfc='grey', mec='grey', color='grey', linestyle='None')\n",
    "\n",
    "plt.errorbar(t_lr, orig_flux[mask_tail], yerr=orig_flux_err[mask_tail], marker='.', \n",
    "             mfc='k', mec='k', color='k', linestyle='None')\n",
    "plt.errorbar(new_t, fit, yerr=fit_err,marker='.', \n",
    "             mfc='white', mec='k', color='k', linestyle='None')\n",
    "\n",
    "# MJD, band, Flux, Flux_err, FilterSet Source\n",
    "#extra_pts = "
   ]
  },
  {
   "cell_type": "code",
   "execution_count": 811,
   "metadata": {},
   "outputs": [],
   "source": [
    "lc_file = pd.DataFrame(np.genfromtxt(prova2.sn_rawphot_file,names=True, dtype=None,encoding=\"utf-8\"))\n",
    "extr_pts_pd = pd.DataFrame().reindex_like(lc_file)[:0]\n",
    "extr_pts_pd['MJD'] = new_t+offset_time\n",
    "extr_pts_pd['band'] = np.full(len(new_t), fill_value=ff)\n",
    "extr_pts_pd['Flux'] = fit\n",
    "extr_pts_pd['Flux_err'] = fit_err\n",
    "extr_pts_pd['FilterSet'] = np.full(len(new_t), fill_value='SUDO_PTS')\n",
    "extr_pts_pd['Source'] = np.full(len(new_t), fill_value='SUDO_PTS')"
   ]
  },
  {
   "cell_type": "code",
   "execution_count": 773,
   "metadata": {},
   "outputs": [],
   "source": [
    "extr_pts_pd['MJD'] = new_t+offset_time\n",
    "extr_pts_pd['band'] = np.full(len(new_t), fill_value=ff)\n",
    "extr_pts_pd['Flux'] = fit\n",
    "extr_pts_pd['Flux_err'] = fit_err\n",
    "extr_pts_pd['FilterSet'] = np.full(len(new_t), fill_value='SUDO_PTS')\n",
    "extr_pts_pd['Source'] = np.full(len(new_t), fill_value='SUDO_PTS')"
   ]
  },
  {
   "cell_type": "code",
   "execution_count": 17,
   "metadata": {},
   "outputs": [
    {
     "data": {
      "text/plain": [
       "(20, 9)"
      ]
     },
     "execution_count": 17,
     "metadata": {},
     "output_type": "execute_result"
    },
    {
     "data": {
      "image/png": "[encoded data removed]",
      "text/plain": [
       "<Figure size 360x360 with 1 Axes>"
      ]
     },
     "metadata": {},
     "output_type": "display_data"
    }
   ],
   "source": [
    "\n",
    "fig=plt.figure(figsize=(5,5))\n",
    "tt=np.arange(0,350,10)\n",
    "plt.plot(tt, -tt*mm_cob56+18)\n",
    "plt.xlim(0,350)\n",
    "plt.ylim(20,9)"
   ]
  },
  {
   "cell_type": "code",
   "execution_count": null,
   "metadata": {},
   "outputs": [],
   "source": []
  }
 ],
 "metadata": {
  "anaconda-cloud": {},
  "kernelspec": {
   "display_name": "Python [conda env:myenv]",
   "language": "python",
   "name": "conda-env-myenv-py"
  },
  "language_info": {
   "codemirror_mode": {
    "name": "ipython",
    "version": 3
   },
   "file_extension": ".py",
   "mimetype": "text/x-python",
   "name": "python",
   "nbconvert_exporter": "python",
   "pygments_lexer": "ipython3",
   "version": "3.4.5"
  }
 },
 "nbformat": 4,
 "nbformat_minor": 2
}
